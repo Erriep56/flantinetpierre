{
 "cells": [
  {
   "cell_type": "code",
   "execution_count": null,
   "metadata": {},
   "outputs": [],
   "source": [
    "# Version de Pierre\n",
    "\n",
    "import random\n",
    "\n",
    "def jeu_pierre_feuille_ciseau():\n",
    "    choix_options = [\"pierre\", \"feuille\", \"ciseau\"]\n",
    "    choix_ordinateur = random.choice(choix_options)\n",
    "\n",
    "    choix_joueur = input(\"Choisissez entre pierre, feuille ou ciseau : \").lower()\n",
    "\n",
    "    if choix_joueur not in choix_options:\n",
    "        print(\"Choix invalide. Veuillez choisir pierre, feuille ou ciseau.\")\n",
    "        return\n",
    "\n",
    "    print(f\"Vous avez choisi : {choix_joueur}\")\n",
    "    print(f\"L'ordinateur a choisi : {choix_ordinateur}\")\n",
    "\n",
    "    if choix_joueur == choix_ordinateur:\n",
    "        print(\"C'est une égalité !\")\n",
    "    elif (choix_joueur == \"pierre\" and choix_ordinateur == \"ciseau\") or \\\n",
    "         (choix_joueur == \"feuille\" and choix_ordinateur == \"pierre\") or \\\n",
    "         (choix_joueur == \"ciseau\" and choix_ordinateur == \"feuille\"):\n",
    "        print(\"Vous avez gagné !\")\n",
    "    else:\n",
    "        print(\"Vous avez perdu !\")\n",
    "\n",
    "if __name__ == \"__main__\":\n",
    "    jeu_pierre_feuille_ciseau()"
   ]
  }
 ],
 "metadata": {
  "language_info": {
   "name": "python"
  }
 },
 "nbformat": 4,
 "nbformat_minor": 2
}
